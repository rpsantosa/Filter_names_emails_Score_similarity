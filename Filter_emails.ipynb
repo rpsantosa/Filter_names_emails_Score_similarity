{
 "cells": [
  {
   "cell_type": "code",
   "execution_count": 84,
   "metadata": {
    "collapsed": true,
    "pycharm": {
     "name": "#%%\n"
    }
   },
   "outputs": [],
   "source": [
    "import pandas\n",
    "#!pip install python-Levenshtein\n",
    "#!pip install xlwt\n",
    "import pandas as pd\n",
    "import Levenshtein as levenshtein\n",
    "from difflib import SequenceMatcher as SM\n",
    "import itertools"
   ]
  },
  {
   "cell_type": "code",
   "execution_count": 94,
   "outputs": [],
   "source": [
    "asf = pd.read_excel('D:/Downloads/Relatorio_as.xlsx')\n",
    "black = pd.read_excel('D:/Downloads/Relatorio_blacktag.xlsx')\n",
    "\n",
    "#convert to lower to calculate the similarity later\n",
    "\n",
    "asf['Nome'] = asf['Nome'].apply(lambda x:x.lower())\n",
    "black['Nome completo'] = black['Nome completo'].apply(lambda x:x.lower())\n",
    "\n",
    "black.sort_values(by=['Nome completo'], inplace=True)\n",
    "asf.sort_values(by = ['Nome'], inplace= True)"
   ],
   "metadata": {
    "collapsed": false,
    "pycharm": {
     "name": "#%%\n"
    }
   }
  },
  {
   "cell_type": "code",
   "execution_count": null,
   "outputs": [],
   "source": [
    "black\n"
   ],
   "metadata": {
    "collapsed": false,
    "pycharm": {
     "name": "#%%\n",
     "is_executing": true
    }
   }
  },
  {
   "cell_type": "code",
   "execution_count": null,
   "outputs": [],
   "source": [
    "asf"
   ],
   "metadata": {
    "collapsed": false,
    "pycharm": {
     "name": "#%%\n",
     "is_executing": true
    }
   }
  },
  {
   "cell_type": "code",
   "execution_count": null,
   "outputs": [],
   "source": [
    "to_del = asf[ asf['Status'] == 'Cancelado'].index\n",
    "asf.drop(to_del,inplace=True)\n",
    "asf"
   ],
   "metadata": {
    "collapsed": false,
    "pycharm": {
     "name": "#%%\n",
     "is_executing": true
    }
   }
  },
  {
   "cell_type": "code",
   "execution_count": 98,
   "outputs": [],
   "source": [
    "names_as = asf[['Nome']].values.tolist()\n",
    "names_black = black[['Nome completo']].values.tolist()\n",
    "\n",
    "#unest the list\n",
    "names_black = list(itertools.chain(*names_black))\n",
    "names_as = list(itertools.chain(*names_as))\n"
   ],
   "metadata": {
    "collapsed": false,
    "pycharm": {
     "name": "#%%\n"
    }
   }
  },
  {
   "cell_type": "code",
   "execution_count": null,
   "outputs": [],
   "source": [
    "names_out = []\n",
    "names_out1 = []\n",
    "ratio = []\n",
    "for str1 in names_as:\n",
    "    for str2 in names_black:\n",
    "        #print(str1)\n",
    "        similarity_ratio = SM( None, str1, str2 ).ratio()\n",
    "        if similarity_ratio > .7:\n",
    "            names_out.append(str1)\n",
    "            names_out1.append(str2)\n",
    "            ratio.append(similarity_ratio)\n",
    "\n",
    "names_out, names_out1, ratio\n",
    "names_togive = set(names_as) - set(names_out)\n",
    "names_togive"
   ],
   "metadata": {
    "collapsed": false,
    "pycharm": {
     "name": "#%%\n",
     "is_executing": true
    }
   }
  },
  {
   "cell_type": "markdown",
   "source": [],
   "metadata": {
    "collapsed": false,
    "pycharm": {
     "name": "#%% md\n"
    }
   }
  },
  {
   "cell_type": "markdown",
   "source": [],
   "metadata": {
    "collapsed": false,
    "pycharm": {
     "name": "#%% md\n"
    }
   }
  },
  {
   "cell_type": "code",
   "execution_count": 136,
   "outputs": [],
   "source": [
    "pd.DataFrame(names_togive).to_excel('names.xlsx')\n"
   ],
   "metadata": {
    "collapsed": false,
    "pycharm": {
     "name": "#%%\n"
    }
   }
  },
  {
   "cell_type": "code",
   "execution_count": null,
   "outputs": [],
   "source": [
    "pd.DataFrame((names_out, names_out1, ratio)).T"
   ],
   "metadata": {
    "collapsed": false,
    "pycharm": {
     "name": "#%%\n",
     "is_executing": true
    }
   }
  },
  {
   "cell_type": "code",
   "execution_count": null,
   "outputs": [],
   "source": [],
   "metadata": {
    "collapsed": false,
    "pycharm": {
     "name": "#%%\n"
    }
   }
  }
 ],
 "metadata": {
  "kernelspec": {
   "display_name": "Python 3",
   "language": "python",
   "name": "python3"
  },
  "language_info": {
   "codemirror_mode": {
    "name": "ipython",
    "version": 2
   },
   "file_extension": ".py",
   "mimetype": "text/x-python",
   "name": "python",
   "nbconvert_exporter": "python",
   "pygments_lexer": "ipython2",
   "version": "2.7.6"
  }
 },
 "nbformat": 4,
 "nbformat_minor": 0
}